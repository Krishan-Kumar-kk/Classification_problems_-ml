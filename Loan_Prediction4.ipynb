{
  "nbformat": 4,
  "nbformat_minor": 0,
  "metadata": {
    "colab": {
      "name": "Loan_Prediction4.ipynb",
      "provenance": [],
      "collapsed_sections": []
    },
    "kernelspec": {
      "name": "python3",
      "display_name": "Python 3"
    }
  },
  "cells": [
    {
      "cell_type": "code",
      "metadata": {
        "id": "JrrAFf71tJWp"
      },
      "source": [
        "import pandas as pd\r\n",
        "import numpy as np\r\n",
        "import seaborn as sns\r\n",
        "import matplotlib.pyplot as plt          # plot graphs\r\n",
        "%matplotlib inline\r\n",
        "import warnings                          #to ignore warnings\r\n",
        "warnings.filterwarnings(\"ignore\")"
      ],
      "execution_count": 1,
      "outputs": []
    },
    {
      "cell_type": "markdown",
      "metadata": {
        "id": "ei0T6B0nu2v8"
      },
      "source": [
        "Load the train and test dataset"
      ]
    },
    {
      "cell_type": "code",
      "metadata": {
        "id": "ySd7p2sfuD-d"
      },
      "source": [
        "train=pd.read_csv(\"/content/train_ctrUa4K.csv\")\r\n",
        "test=pd.read_csv(\"/content/test_lAUu6dG.csv\")"
      ],
      "execution_count": 2,
      "outputs": []
    },
    {
      "cell_type": "markdown",
      "metadata": {
        "id": "5leMOmABvBBy"
      },
      "source": [
        "let make the copy of the data set ,so that if we do some changes in dataset then alse we have a orignal data set "
      ]
    },
    {
      "cell_type": "code",
      "metadata": {
        "id": "2UESdw4_u1cy"
      },
      "source": [
        "train_data=train.copy()\r\n",
        "test_data=test.copy()"
      ],
      "execution_count": 3,
      "outputs": []
    },
    {
      "cell_type": "code",
      "metadata": {
        "colab": {
          "base_uri": "https://localhost:8080/",
          "height": 232
        },
        "id": "_dDcXOsWzVia",
        "outputId": "36770d10-109e-48e3-bf08-7c1501ec0e91"
      },
      "source": [
        "train.head()"
      ],
      "execution_count": 4,
      "outputs": [
        {
          "output_type": "execute_result",
          "data": {
            "text/html": [
              "<div>\n",
              "<style scoped>\n",
              "    .dataframe tbody tr th:only-of-type {\n",
              "        vertical-align: middle;\n",
              "    }\n",
              "\n",
              "    .dataframe tbody tr th {\n",
              "        vertical-align: top;\n",
              "    }\n",
              "\n",
              "    .dataframe thead th {\n",
              "        text-align: right;\n",
              "    }\n",
              "</style>\n",
              "<table border=\"1\" class=\"dataframe\">\n",
              "  <thead>\n",
              "    <tr style=\"text-align: right;\">\n",
              "      <th></th>\n",
              "      <th>Loan_ID</th>\n",
              "      <th>Gender</th>\n",
              "      <th>Married</th>\n",
              "      <th>Dependents</th>\n",
              "      <th>Education</th>\n",
              "      <th>Self_Employed</th>\n",
              "      <th>ApplicantIncome</th>\n",
              "      <th>CoapplicantIncome</th>\n",
              "      <th>LoanAmount</th>\n",
              "      <th>Loan_Amount_Term</th>\n",
              "      <th>Credit_History</th>\n",
              "      <th>Property_Area</th>\n",
              "      <th>Loan_Status</th>\n",
              "    </tr>\n",
              "  </thead>\n",
              "  <tbody>\n",
              "    <tr>\n",
              "      <th>0</th>\n",
              "      <td>LP001002</td>\n",
              "      <td>Male</td>\n",
              "      <td>No</td>\n",
              "      <td>0</td>\n",
              "      <td>Graduate</td>\n",
              "      <td>No</td>\n",
              "      <td>5849</td>\n",
              "      <td>0.0</td>\n",
              "      <td>NaN</td>\n",
              "      <td>360.0</td>\n",
              "      <td>1.0</td>\n",
              "      <td>Urban</td>\n",
              "      <td>Y</td>\n",
              "    </tr>\n",
              "    <tr>\n",
              "      <th>1</th>\n",
              "      <td>LP001003</td>\n",
              "      <td>Male</td>\n",
              "      <td>Yes</td>\n",
              "      <td>1</td>\n",
              "      <td>Graduate</td>\n",
              "      <td>No</td>\n",
              "      <td>4583</td>\n",
              "      <td>1508.0</td>\n",
              "      <td>128.0</td>\n",
              "      <td>360.0</td>\n",
              "      <td>1.0</td>\n",
              "      <td>Rural</td>\n",
              "      <td>N</td>\n",
              "    </tr>\n",
              "    <tr>\n",
              "      <th>2</th>\n",
              "      <td>LP001005</td>\n",
              "      <td>Male</td>\n",
              "      <td>Yes</td>\n",
              "      <td>0</td>\n",
              "      <td>Graduate</td>\n",
              "      <td>Yes</td>\n",
              "      <td>3000</td>\n",
              "      <td>0.0</td>\n",
              "      <td>66.0</td>\n",
              "      <td>360.0</td>\n",
              "      <td>1.0</td>\n",
              "      <td>Urban</td>\n",
              "      <td>Y</td>\n",
              "    </tr>\n",
              "    <tr>\n",
              "      <th>3</th>\n",
              "      <td>LP001006</td>\n",
              "      <td>Male</td>\n",
              "      <td>Yes</td>\n",
              "      <td>0</td>\n",
              "      <td>Not Graduate</td>\n",
              "      <td>No</td>\n",
              "      <td>2583</td>\n",
              "      <td>2358.0</td>\n",
              "      <td>120.0</td>\n",
              "      <td>360.0</td>\n",
              "      <td>1.0</td>\n",
              "      <td>Urban</td>\n",
              "      <td>Y</td>\n",
              "    </tr>\n",
              "    <tr>\n",
              "      <th>4</th>\n",
              "      <td>LP001008</td>\n",
              "      <td>Male</td>\n",
              "      <td>No</td>\n",
              "      <td>0</td>\n",
              "      <td>Graduate</td>\n",
              "      <td>No</td>\n",
              "      <td>6000</td>\n",
              "      <td>0.0</td>\n",
              "      <td>141.0</td>\n",
              "      <td>360.0</td>\n",
              "      <td>1.0</td>\n",
              "      <td>Urban</td>\n",
              "      <td>Y</td>\n",
              "    </tr>\n",
              "  </tbody>\n",
              "</table>\n",
              "</div>"
            ],
            "text/plain": [
              "    Loan_ID Gender Married  ... Credit_History Property_Area Loan_Status\n",
              "0  LP001002   Male      No  ...            1.0         Urban           Y\n",
              "1  LP001003   Male     Yes  ...            1.0         Rural           N\n",
              "2  LP001005   Male     Yes  ...            1.0         Urban           Y\n",
              "3  LP001006   Male     Yes  ...            1.0         Urban           Y\n",
              "4  LP001008   Male      No  ...            1.0         Urban           Y\n",
              "\n",
              "[5 rows x 13 columns]"
            ]
          },
          "metadata": {
            "tags": []
          },
          "execution_count": 4
        }
      ]
    },
    {
      "cell_type": "markdown",
      "metadata": {
        "id": "m9vZRWn5vnQB"
      },
      "source": [
        "**under stand the data**"
      ]
    },
    {
      "cell_type": "code",
      "metadata": {
        "colab": {
          "base_uri": "https://localhost:8080/"
        },
        "id": "5RE95D2EvjGa",
        "outputId": "3beafb6e-280d-4748-9a39-68d3ecb6422b"
      },
      "source": [
        "train.columns"
      ],
      "execution_count": 5,
      "outputs": [
        {
          "output_type": "execute_result",
          "data": {
            "text/plain": [
              "Index(['Loan_ID', 'Gender', 'Married', 'Dependents', 'Education',\n",
              "       'Self_Employed', 'ApplicantIncome', 'CoapplicantIncome', 'LoanAmount',\n",
              "       'Loan_Amount_Term', 'Credit_History', 'Property_Area', 'Loan_Status'],\n",
              "      dtype='object')"
            ]
          },
          "metadata": {
            "tags": []
          },
          "execution_count": 5
        }
      ]
    },
    {
      "cell_type": "code",
      "metadata": {
        "colab": {
          "base_uri": "https://localhost:8080/"
        },
        "id": "UlVxGclAv2lp",
        "outputId": "9d5dd131-46fd-4071-ebf4-093574429894"
      },
      "source": [
        "test.columns"
      ],
      "execution_count": 6,
      "outputs": [
        {
          "output_type": "execute_result",
          "data": {
            "text/plain": [
              "Index(['Loan_ID', 'Gender', 'Married', 'Dependents', 'Education',\n",
              "       'Self_Employed', 'ApplicantIncome', 'CoapplicantIncome', 'LoanAmount',\n",
              "       'Loan_Amount_Term', 'Credit_History', 'Property_Area'],\n",
              "      dtype='object')"
            ]
          },
          "metadata": {
            "tags": []
          },
          "execution_count": 6
        }
      ]
    },
    {
      "cell_type": "markdown",
      "metadata": {
        "id": "9hLeqSlzv88l"
      },
      "source": [
        "so test has one columns is missing 'Loan_Status' we will pridict it."
      ]
    },
    {
      "cell_type": "code",
      "metadata": {
        "colab": {
          "base_uri": "https://localhost:8080/"
        },
        "id": "fIW_jDf1v7eb",
        "outputId": "3fadecb7-e646-40d8-c904-98ca6ce7eeca"
      },
      "source": [
        "train.dtypes   # printing data type"
      ],
      "execution_count": 7,
      "outputs": [
        {
          "output_type": "execute_result",
          "data": {
            "text/plain": [
              "Loan_ID               object\n",
              "Gender                object\n",
              "Married               object\n",
              "Dependents            object\n",
              "Education             object\n",
              "Self_Employed         object\n",
              "ApplicantIncome        int64\n",
              "CoapplicantIncome    float64\n",
              "LoanAmount           float64\n",
              "Loan_Amount_Term     float64\n",
              "Credit_History       float64\n",
              "Property_Area         object\n",
              "Loan_Status           object\n",
              "dtype: object"
            ]
          },
          "metadata": {
            "tags": []
          },
          "execution_count": 7
        }
      ]
    },
    {
      "cell_type": "markdown",
      "metadata": {
        "id": "-oFdGqfPweI5"
      },
      "source": [
        "we have seen from above out put that :\r\n",
        "there is 3 type of data:\r\n",
        "1: object  - object fromat means it has categorical value.\r\n",
        "2: int64\r\n",
        "3: float64"
      ]
    },
    {
      "cell_type": "code",
      "metadata": {
        "colab": {
          "base_uri": "https://localhost:8080/"
        },
        "id": "YL6sliazwZzh",
        "outputId": "2a7c0ec0-6486-4e0d-c942-cc19dad49586"
      },
      "source": [
        "train.shape , test.shape"
      ],
      "execution_count": 8,
      "outputs": [
        {
          "output_type": "execute_result",
          "data": {
            "text/plain": [
              "((614, 13), (367, 12))"
            ]
          },
          "metadata": {
            "tags": []
          },
          "execution_count": 8
        }
      ]
    },
    {
      "cell_type": "markdown",
      "metadata": {
        "id": "vh74utvIxR_O"
      },
      "source": [
        "we have seen from above code that train set as 614 rows and 13 columns while in test data set 367 rows and 12 columns"
      ]
    },
    {
      "cell_type": "markdown",
      "metadata": {
        "id": "4WoyKhQtxpY1"
      },
      "source": [
        "# **univariant analysis**"
      ]
    },
    {
      "cell_type": "code",
      "metadata": {
        "colab": {
          "base_uri": "https://localhost:8080/"
        },
        "id": "ht2YmG1IwZ7J",
        "outputId": "6fac8779-9d6d-4847-f586-3efb60ab59ea"
      },
      "source": [
        "train['Loan_Status'].value_counts()       #Target variabe"
      ],
      "execution_count": 9,
      "outputs": [
        {
          "output_type": "execute_result",
          "data": {
            "text/plain": [
              "Y    422\n",
              "N    192\n",
              "Name: Loan_Status, dtype: int64"
            ]
          },
          "metadata": {
            "tags": []
          },
          "execution_count": 9
        }
      ]
    },
    {
      "cell_type": "code",
      "metadata": {
        "colab": {
          "base_uri": "https://localhost:8080/",
          "height": 280
        },
        "id": "GiIFQRTCwZ_V",
        "outputId": "96904cb9-f450-4c7c-ead9-973ef0aa3118"
      },
      "source": [
        "train['Loan_Status'].value_counts().plot.bar()"
      ],
      "execution_count": 10,
      "outputs": [
        {
          "output_type": "execute_result",
          "data": {
            "text/plain": [
              "<matplotlib.axes._subplots.AxesSubplot at 0x7f4fc846d550>"
            ]
          },
          "metadata": {
            "tags": []
          },
          "execution_count": 10
        },
        {
          "output_type": "display_data",
          "data": {
            "image/png": "[encoded data removed]",
            "text/plain": [
              "<Figure size 432x288 with 1 Axes>"
            ]
          },
          "metadata": {
            "tags": [],
            "needs_background": "light"
          }
        }
      ]
    },
    {
      "cell_type": "markdown",
      "metadata": {
        "id": "f1sq5QemyPzU"
      },
      "source": [
        "Loan of around 422 people are approved while 192 disapproved "
      ]
    },
    {
      "cell_type": "markdown",
      "metadata": {
        "id": "NSppNV1lzGZq"
      },
      "source": [
        "Independent variable(categorical)"
      ]
    },
    {
      "cell_type": "code",
      "metadata": {
        "colab": {
          "base_uri": "https://localhost:8080/",
          "height": 610
        },
        "id": "_z8vKQafynwS",
        "outputId": "8466e854-d349-4b8f-d8f2-52407323006e"
      },
      "source": [
        "plt.figure(1) \r\n",
        "plt.subplot(221)   \r\n",
        "train['Gender'].value_counts(normalize=True).plot.bar(figsize=(20,10),title='Gender')\r\n",
        "plt.subplot(222)\r\n",
        "train['Married'].value_counts(normalize=True).plot.bar(figsize=(20,10),title='Married')\r\n",
        "plt.subplot(223)\r\n",
        "train['Self_Employed'].value_counts(normalize=True).plot.bar(figsize=(20,10),title='Self_Employed')\r\n",
        "plt.subplot(224)\r\n",
        "train['Credit_History'].value_counts(normalize=True).plot.bar(figsize=(20,10),title='Credit_History')"
      ],
      "execution_count": 11,
      "outputs": [
        {
          "output_type": "execute_result",
          "data": {
            "text/plain": [
              "<matplotlib.axes._subplots.AxesSubplot at 0x7f4fc7435f28>"
            ]
          },
          "metadata": {
            "tags": []
          },
          "execution_count": 11
        },
        {
          "output_type": "display_data",
          "data": {
            "image/png": "[encoded data removed]",
            "text/plain": [
              "<Figure size 1440x720 with 4 Axes>"
            ]
          },
          "metadata": {
            "tags": [],
            "needs_background": "light"
          }
        }
      ]
    },
    {
      "cell_type": "markdown",
      "metadata": {
        "id": "9OUZH8vb22A6"
      },
      "source": [
        "1: 80% people are male rest 20% are female \r\n",
        "2: 15% people are self_emplyed \r\n",
        "3: around 65% are married.\r\n",
        "4: around 80% repay their debit."
      ]
    },
    {
      "cell_type": "markdown",
      "metadata": {
        "id": "9Zv5sErU3urr"
      },
      "source": [
        "**Independent variable(ordinal)**"
      ]
    },
    {
      "cell_type": "code",
      "metadata": {
        "colab": {
          "base_uri": "https://localhost:8080/",
          "height": 682
        },
        "id": "1hfNvEfx35OT",
        "outputId": "e4d84eca-999d-49d2-cc3b-c8cfb2b29498"
      },
      "source": [
        "plt.figure(1) \r\n",
        "plt.subplot(131)   \r\n",
        "train['Dependents'].value_counts(normalize=True).plot.bar(figsize=(15,10),title='Dependents')\r\n",
        "plt.subplot(132)   \r\n",
        "train['Education'].value_counts(normalize=True).plot.bar(figsize=(15,10),title='Education')\r\n",
        "plt.subplot(133)   \r\n",
        "train['Property_Area'].value_counts(normalize=True).plot.bar(figsize=(15,10),title='Property_Area')"
      ],
      "execution_count": 12,
      "outputs": [
        {
          "output_type": "execute_result",
          "data": {
            "text/plain": [
              "<matplotlib.axes._subplots.AxesSubplot at 0x7f4fc7302fd0>"
            ]
          },
          "metadata": {
            "tags": []
          },
          "execution_count": 12
        },
        {
          "output_type": "display_data",
          "data": {
            "image/png": "[encoded data removed]",
            "text/plain": [
              "<Figure size 1080x720 with 3 Axes>"
            ]
          },
          "metadata": {
            "tags": [],
            "needs_background": "light"
          }
        }
      ]
    },
    {
      "cell_type": "markdown",
      "metadata": {
        "id": "S7TYhF6P45C8"
      },
      "source": [
        "1: most of the applicant do'nt have any dependents.\r\n",
        "2: 80% applicant are graduate.\r\n",
        "3: most of the applicant are from Semiurban area."
      ]
    },
    {
      "cell_type": "markdown",
      "metadata": {
        "id": "zPL1Vygk5cA2"
      },
      "source": [
        "**Independent variable (numerical)**"
      ]
    },
    {
      "cell_type": "code",
      "metadata": {
        "id": "-bh395qn35Rb",
        "colab": {
          "base_uri": "https://localhost:8080/",
          "height": 623
        },
        "outputId": "841b1c62-960c-4ed7-d89e-97ba57458943"
      },
      "source": [
        "plt.figure(2)\r\n",
        "plt.subplot(121)\r\n",
        "sns.distplot(train['ApplicantIncome'])\r\n",
        "plt.subplot(122)\r\n",
        "train['ApplicantIncome'].plot.box(figsize=(15,10))"
      ],
      "execution_count": 13,
      "outputs": [
        {
          "output_type": "execute_result",
          "data": {
            "text/plain": [
              "<matplotlib.axes._subplots.AxesSubplot at 0x7f4fc7259710>"
            ]
          },
          "metadata": {
            "tags": []
          },
          "execution_count": 13
        },
        {
          "output_type": "display_data",
          "data": {
            "image/png": "[encoded data removed]",
            "text/plain": [
              "<Figure size 1080x720 with 2 Axes>"
            ]
          },
          "metadata": {
            "tags": [],
            "needs_background": "light"
          }
        }
      ]
    },
    {
      "cell_type": "markdown",
      "metadata": {
        "id": "5qsKyF0WlQ_3"
      },
      "source": [
        "from the above diagrm it is clear that most of the data is shifted towords right , so it is not normally distributed.\r\n",
        "\r\n",
        "> Indented block\r\n",
        "\r\n"
      ]
    },
    {
      "cell_type": "code",
      "metadata": {
        "colab": {
          "base_uri": "https://localhost:8080/",
          "height": 318
        },
        "id": "lTJVm9v3lvVr",
        "outputId": "90cc99fe-96dd-4aee-dbcd-a1f6f7e60d26"
      },
      "source": [
        "train.boxplot(column='ApplicantIncome', by='Education')"
      ],
      "execution_count": 14,
      "outputs": [
        {
          "output_type": "execute_result",
          "data": {
            "text/plain": [
              "<matplotlib.axes._subplots.AxesSubplot at 0x7f4fc71e96d8>"
            ]
          },
          "metadata": {
            "tags": []
          },
          "execution_count": 14
        },
        {
          "output_type": "display_data",
          "data": {
            "image/png": "[encoded data removed]",
            "text/plain": [
              "<Figure size 432x288 with 1 Axes>"
            ]
          },
          "metadata": {
            "tags": [],
            "needs_background": "light"
          }
        }
      ]
    },
    {
      "cell_type": "markdown",
      "metadata": {
        "id": "Ey9B6wRKnPNL"
      },
      "source": [
        "we can see that there is large number of graduate who has large income .they treated as a outliers ."
      ]
    },
    {
      "cell_type": "code",
      "metadata": {
        "colab": {
          "base_uri": "https://localhost:8080/",
          "height": 351
        },
        "id": "91UlMJcKnhHU",
        "outputId": "a3ed2afc-690a-4718-9438-fea7210588dc"
      },
      "source": [
        "plt.figure(3)\r\n",
        "plt.subplot(141)\r\n",
        "sns.distplot(train['CoapplicantIncome'])\r\n",
        "plt.subplot(142)\r\n",
        "train['CoapplicantIncome'].plot.box(figsize=(20,5))"
      ],
      "execution_count": 15,
      "outputs": [
        {
          "output_type": "execute_result",
          "data": {
            "text/plain": [
              "<matplotlib.axes._subplots.AxesSubplot at 0x7f4fc704b828>"
            ]
          },
          "metadata": {
            "tags": []
          },
          "execution_count": 15
        },
        {
          "output_type": "display_data",
          "data": {
            "image/png": "[encoded data removed]",
            "text/plain": [
              "<Figure size 1440x360 with 2 Axes>"
            ]
          },
          "metadata": {
            "tags": [],
            "needs_background": "light"
          }
        }
      ]
    },
    {
      "cell_type": "markdown",
      "metadata": {
        "id": "f84CXXtLoRiV"
      },
      "source": [
        "CoapplicantIncome is also not normally distributed .most of the information lie in the range of 0-5000 and has lot of outliers.\r\n",
        " "
      ]
    },
    {
      "cell_type": "code",
      "metadata": {
        "colab": {
          "base_uri": "https://localhost:8080/",
          "height": 351
        },
        "id": "H7h2cfkFolC1",
        "outputId": "4a641538-9045-411b-fa3f-c910777d21b1"
      },
      "source": [
        "plt.figure(4)\r\n",
        "plt.subplot(151)\r\n",
        "df=train.dropna()\r\n",
        "sns.distplot(train['LoanAmount'])\r\n",
        "plt.subplot(152)\r\n",
        "train['LoanAmount'].plot.box(figsize=(20,5))"
      ],
      "execution_count": 16,
      "outputs": [
        {
          "output_type": "execute_result",
          "data": {
            "text/plain": [
              "<matplotlib.axes._subplots.AxesSubplot at 0x7f4fc7076080>"
            ]
          },
          "metadata": {
            "tags": []
          },
          "execution_count": 16
        },
        {
          "output_type": "display_data",
          "data": {
            "image/png": "[encoded data removed]",
            "text/plain": [
              "<Figure size 1440x360 with 2 Axes>"
            ]
          },
          "metadata": {
            "tags": [],
            "needs_background": "light"
          }
        }
      ]
    },
    {
      "cell_type": "code",
      "metadata": {
        "colab": {
          "base_uri": "https://localhost:8080/"
        },
        "id": "M8_dNDgb1XvD",
        "outputId": "23b070ab-bfcb-48ec-ba98-d49e2104a77f"
      },
      "source": [
        "train['Loan_Status']"
      ],
      "execution_count": 17,
      "outputs": [
        {
          "output_type": "execute_result",
          "data": {
            "text/plain": [
              "0      Y\n",
              "1      N\n",
              "2      Y\n",
              "3      Y\n",
              "4      Y\n",
              "      ..\n",
              "609    Y\n",
              "610    Y\n",
              "611    Y\n",
              "612    Y\n",
              "613    N\n",
              "Name: Loan_Status, Length: 614, dtype: object"
            ]
          },
          "metadata": {
            "tags": []
          },
          "execution_count": 17
        }
      ]
    },
    {
      "cell_type": "markdown",
      "metadata": {
        "id": "itErgYSCpaev"
      },
      "source": [
        "Loan Amount data is fairly normally distributed it also has some outlies."
      ]
    },
    {
      "cell_type": "markdown",
      "metadata": {
        "id": "dOxZMaCOppoA"
      },
      "source": [
        "# Bivariant Analysis"
      ]
    },
    {
      "cell_type": "markdown",
      "metadata": {
        "id": "NuLSrEdwqwth"
      },
      "source": [
        "**Categorical Vs Target value **"
      ]
    },
    {
      "cell_type": "code",
      "metadata": {
        "colab": {
          "base_uri": "https://localhost:8080/",
          "height": 322
        },
        "id": "bQ51q1v3pGDX",
        "outputId": "8fa158e8-b64f-4bb1-efa7-e1230c2f6450"
      },
      "source": [
        "Gender=pd.crosstab(train['Gender'],train['Loan_Status'])\r\n",
        "Gender\r\n",
        "Gender.div(Gender.sum(1).astype(float),axis=0).plot(kind='bar',stacked=True,figsize=(4,4))"
      ],
      "execution_count": 18,
      "outputs": [
        {
          "output_type": "execute_result",
          "data": {
            "text/plain": [
              "<matplotlib.axes._subplots.AxesSubplot at 0x7f4fc6e83208>"
            ]
          },
          "metadata": {
            "tags": []
          },
          "execution_count": 18
        },
        {
          "output_type": "display_data",
          "data": {
            "image/png": "[encoded data removed]",
            "text/plain": [
              "<Figure size 288x288 with 1 Axes>"
            ]
          },
          "metadata": {
            "tags": [],
            "needs_background": "light"
          }
        }
      ]
    },
    {
      "cell_type": "markdown",
      "metadata": {
        "id": "ZIEHKxfdwAYE"
      },
      "source": [
        "The proportion aprovel of loan is approx same for both male and female ."
      ]
    },
    {
      "cell_type": "code",
      "metadata": {
        "colab": {
          "base_uri": "https://localhost:8080/",
          "height": 1000
        },
        "id": "muOVtwMjwWNY",
        "outputId": "c8bf6168-56ac-48f7-980e-267f43710519"
      },
      "source": [
        "Married=pd.crosstab(train['Married'],train['Loan_Status'])\r\n",
        "Dependents=pd.crosstab(train['Dependents'],train['Loan_Status'])\r\n",
        "Education=pd.crosstab(train['Education'],train['Loan_Status'])\r\n",
        "Self_Employed=pd.crosstab(train['Self_Employed'],train['Loan_Status'])\r\n",
        "Married.div(Married.sum(1).astype(float),axis=0).plot(kind='bar',stacked=True,figsize=(4,4))\r\n",
        "Dependents.div(Dependents.sum(1).astype(float),axis=0).plot(kind='bar',stacked=True,figsize=(4,4))\r\n",
        "Education.div(Education.sum(1).astype(float),axis=0).plot(kind='bar',stacked=True,figsize=(4,4))\r\n",
        "Self_Employed.div(Self_Employed.sum(1).astype(float),axis=0).plot(kind='bar',stacked=True,figsize=(4,4))\r\n"
      ],
      "execution_count": 19,
      "outputs": [
        {
          "output_type": "execute_result",
          "data": {
            "text/plain": [
              "<matplotlib.axes._subplots.AxesSubplot at 0x7f4fc6c34780>"
            ]
          },
          "metadata": {
            "tags": []
          },
          "execution_count": 19
        },
        {
          "output_type": "display_data",
          "data": {
            "image/png": "[encoded data removed]",
            "text/plain": [
              "<Figure size 288x288 with 1 Axes>"
            ]
          },
          "metadata": {
            "tags": [],
            "needs_background": "light"
          }
        },
        {
          "output_type": "display_data",
          "data": {
            "image/png": "[encoded data removed]",
            "text/plain": [
              "<Figure size 288x288 with 1 Axes>"
            ]
          },
          "metadata": {
            "tags": [],
            "needs_background": "light"
          }
        },
        {
          "output_type": "display_data",
          "data": {
            "image/png": "[encoded data removed]",
            "text/plain": [
              "<Figure size 288x288 with 1 Axes>"
            ]
          },
          "metadata": {
            "tags": [],
            "needs_background": "light"
          }
        },
        {
          "output_type": "display_data",
          "data": {
            "image/png": "[encoded data removed]",
            "text/plain": [
              "<Figure size 288x288 with 1 Axes>"
            ]
          },
          "metadata": {
            "tags": [],
            "needs_background": "light"
          }
        }
      ]
    },
    {
      "cell_type": "code",
      "metadata": {
        "colab": {
          "base_uri": "https://localhost:8080/"
        },
        "id": "PYJetoWu1fvw",
        "outputId": "9cc5e7b4-71c0-4583-bb7c-0116be706080"
      },
      "source": [
        "train['Loan_Status']"
      ],
      "execution_count": 20,
      "outputs": [
        {
          "output_type": "execute_result",
          "data": {
            "text/plain": [
              "0      Y\n",
              "1      N\n",
              "2      Y\n",
              "3      Y\n",
              "4      Y\n",
              "      ..\n",
              "609    Y\n",
              "610    Y\n",
              "611    Y\n",
              "612    Y\n",
              "613    N\n",
              "Name: Loan_Status, Length: 614, dtype: object"
            ]
          },
          "metadata": {
            "tags": []
          },
          "execution_count": 20
        }
      ]
    },
    {
      "cell_type": "markdown",
      "metadata": {
        "id": "PmB1iOMpxyyh"
      },
      "source": [
        ""
      ]
    },
    {
      "cell_type": "code",
      "metadata": {
        "colab": {
          "base_uri": "https://localhost:8080/",
          "height": 610
        },
        "id": "0yhVNT-3wwLh",
        "outputId": "690e6101-90ba-4862-95a4-bd66680dd04d"
      },
      "source": [
        "Credit_History=pd.crosstab(train['Credit_History'],train['Loan_Status'])\r\n",
        "Property_Area=pd.crosstab(train['Property_Area'],train['Loan_Status'])\r\n",
        "Credit_History.div(Credit_History.sum(1).astype(float),axis=0).plot(kind='bar',stacked=True,figsize=(4,4))\r\n",
        "Property_Area.div(Property_Area.sum(1).astype(float),axis=0).plot(kind='bar',stacked=True,figsize=(4,4))"
      ],
      "execution_count": 21,
      "outputs": [
        {
          "output_type": "execute_result",
          "data": {
            "text/plain": [
              "<matplotlib.axes._subplots.AxesSubplot at 0x7f4fc7112da0>"
            ]
          },
          "metadata": {
            "tags": []
          },
          "execution_count": 21
        },
        {
          "output_type": "display_data",
          "data": {
            "image/png": "[encoded data removed]",
            "text/plain": [
              "<Figure size 288x288 with 1 Axes>"
            ]
          },
          "metadata": {
            "tags": [],
            "needs_background": "light"
          }
        },
        {
          "output_type": "display_data",
          "data": {
            "image/png": "[encoded data removed]",
            "text/plain": [
              "<Figure size 288x288 with 1 Axes>"
            ]
          },
          "metadata": {
            "tags": [],
            "needs_background": "light"
          }
        }
      ]
    },
    {
      "cell_type": "markdown",
      "metadata": {
        "id": "O0Eo5vAdzqxi"
      },
      "source": [
        "**Numerical variable Vs Traget variable**"
      ]
    },
    {
      "cell_type": "code",
      "metadata": {
        "colab": {
          "base_uri": "https://localhost:8080/",
          "height": 295
        },
        "id": "545SBp5wzrGU",
        "outputId": "035d1504-a635-440a-b3b3-452de1b592e3"
      },
      "source": [
        "train.groupby('Loan_Status')['ApplicantIncome'].mean().plot.bar()"
      ],
      "execution_count": 22,
      "outputs": [
        {
          "output_type": "execute_result",
          "data": {
            "text/plain": [
              "<matplotlib.axes._subplots.AxesSubplot at 0x7f4fc6f52ba8>"
            ]
          },
          "metadata": {
            "tags": []
          },
          "execution_count": 22
        },
        {
          "output_type": "display_data",
          "data": {
            "image/png": "[encoded data removed]",
            "text/plain": [
              "<Figure size 432x288 with 1 Axes>"
            ]
          },
          "metadata": {
            "tags": [],
            "needs_background": "light"
          }
        }
      ]
    },
    {
      "cell_type": "code",
      "metadata": {
        "colab": {
          "base_uri": "https://localhost:8080/"
        },
        "id": "PSLmoQZ70uoI",
        "outputId": "6e0b1ff9-61c1-47bc-a53f-f211e9ef3879"
      },
      "source": [
        "train['Loan_Status']"
      ],
      "execution_count": 23,
      "outputs": [
        {
          "output_type": "execute_result",
          "data": {
            "text/plain": [
              "0      Y\n",
              "1      N\n",
              "2      Y\n",
              "3      Y\n",
              "4      Y\n",
              "      ..\n",
              "609    Y\n",
              "610    Y\n",
              "611    Y\n",
              "612    Y\n",
              "613    N\n",
              "Name: Loan_Status, Length: 614, dtype: object"
            ]
          },
          "metadata": {
            "tags": []
          },
          "execution_count": 23
        }
      ]
    },
    {
      "cell_type": "markdown",
      "metadata": {
        "id": "J4-DVHOP0xy6"
      },
      "source": [
        "here y-axis represent mean  Applicantincome . we do not see any change in mean income . so let's create bins of Applicant Income."
      ]
    },
    {
      "cell_type": "code",
      "metadata": {
        "colab": {
          "base_uri": "https://localhost:8080/",
          "height": 338
        },
        "id": "tRAuothy0f2Y",
        "outputId": "142fd909-4168-400c-9629-0056c65305a2"
      },
      "source": [
        "bins=[0,2500,5000,8000,81000]\r\n",
        "group=['Low','Averge','High','Very_High']\r\n",
        "train['Income_bins']=pd.cut(train['ApplicantIncome'],bins,labels=group)\r\n",
        "Income_bins=pd.crosstab(train['Income_bins'],train['Loan_Status'])\r\n",
        "Income_bins.div(Income_bins.sum(1).astype(float),axis=0).plot(kind='bar',stacked=True,figsize=(4,4))"
      ],
      "execution_count": 24,
      "outputs": [
        {
          "output_type": "execute_result",
          "data": {
            "text/plain": [
              "<matplotlib.axes._subplots.AxesSubplot at 0x7f4fc6c7db38>"
            ]
          },
          "metadata": {
            "tags": []
          },
          "execution_count": 24
        },
        {
          "output_type": "display_data",
          "data": {
            "image/png": "[encoded data removed]",
            "text/plain": [
              "<Figure size 288x288 with 1 Axes>"
            ]
          },
          "metadata": {
            "tags": [],
            "needs_background": "light"
          }
        }
      ]
    },
    {
      "cell_type": "markdown",
      "metadata": {
        "id": "K8v863QA3E7O"
      },
      "source": [
        ""
      ]
    },
    {
      "cell_type": "code",
      "metadata": {
        "colab": {
          "base_uri": "https://localhost:8080/",
          "height": 322
        },
        "id": "4_xl2H923FRK",
        "outputId": "428dea13-39f4-4d48-f25c-a0ecfc2df684"
      },
      "source": [
        "bins=[0,1000,3000,42000]\r\n",
        "group=['Low','Averge','High']\r\n",
        "train['CoapplicantIncome_bins']=pd.cut(train['CoapplicantIncome'],bins,labels=group)\r\n",
        "CoapplicantIncome_bins=pd.crosstab(train['CoapplicantIncome_bins'],train['Loan_Status'])\r\n",
        "CoapplicantIncome_bins.div(CoapplicantIncome_bins.sum(1).astype(float),axis=0).plot(kind='bar',stacked=True,figsize=(4,4))"
      ],
      "execution_count": 25,
      "outputs": [
        {
          "output_type": "execute_result",
          "data": {
            "text/plain": [
              "<matplotlib.axes._subplots.AxesSubplot at 0x7f4fc6bdc9e8>"
            ]
          },
          "metadata": {
            "tags": []
          },
          "execution_count": 25
        },
        {
          "output_type": "display_data",
          "data": {
            "image/png": "[encoded data removed]",
            "text/plain": [
              "<Figure size 288x288 with 1 Axes>"
            ]
          },
          "metadata": {
            "tags": [],
            "needs_background": "light"
          }
        }
      ]
    },
    {
      "cell_type": "markdown",
      "metadata": {
        "id": "P4LUx7MJ3q0j"
      },
      "source": [
        ""
      ]
    },
    {
      "cell_type": "code",
      "metadata": {
        "colab": {
          "base_uri": "https://localhost:8080/",
          "height": 338
        },
        "id": "UF4SMAtc3q-h",
        "outputId": "d84072f6-dc00-4f3e-b28e-7b77fd4c9172"
      },
      "source": [
        "train['Total_income']=train['ApplicantIncome']+train['CoapplicantIncome']\r\n",
        "bins=[0,2500,5000,8000,81000]\r\n",
        "group=['Low','Averge','High','Very_High']\r\n",
        "train['Total_income_bins']=pd.cut(train['Total_income'],bins,labels=group)\r\n",
        "Total_income_bins=pd.crosstab(train['Total_income_bins'],train['Loan_Status'])\r\n",
        "Total_income_bins.div(Total_income_bins.sum(1).astype(float),axis=0).plot(kind='bar',stacked=True,figsize=(4,4))\r\n"
      ],
      "execution_count": 26,
      "outputs": [
        {
          "output_type": "execute_result",
          "data": {
            "text/plain": [
              "<matplotlib.axes._subplots.AxesSubplot at 0x7f4fc6b157f0>"
            ]
          },
          "metadata": {
            "tags": []
          },
          "execution_count": 26
        },
        {
          "output_type": "display_data",
          "data": {
            "image/png": "[encoded data removed]",
            "text/plain": [
              "<Figure size 288x288 with 1 Axes>"
            ]
          },
          "metadata": {
            "tags": [],
            "needs_background": "light"
          }
        }
      ]
    },
    {
      "cell_type": "markdown",
      "metadata": {
        "id": "zT-cpT4r48Pa"
      },
      "source": [
        ""
      ]
    },
    {
      "cell_type": "code",
      "metadata": {
        "colab": {
          "base_uri": "https://localhost:8080/",
          "height": 322
        },
        "id": "k39TKQaq48eQ",
        "outputId": "415868e6-5699-4680-fc60-a214b7f06ca1"
      },
      "source": [
        "bins=[0,100,200,700]\r\n",
        "group=['Low','Averge','High']\r\n",
        "train['LoanAmount_bins']=pd.cut(train['LoanAmount'],bins,labels=group)\r\n",
        "LoanAmount_bins=pd.crosstab(train['LoanAmount_bins'],train['Loan_Status'])\r\n",
        "LoanAmount_bins.div(LoanAmount_bins.sum(1).astype(float),axis=0).plot(kind='bar',stacked=True,figsize=(4,4))"
      ],
      "execution_count": 27,
      "outputs": [
        {
          "output_type": "execute_result",
          "data": {
            "text/plain": [
              "<matplotlib.axes._subplots.AxesSubplot at 0x7f4fc6a7d748>"
            ]
          },
          "metadata": {
            "tags": []
          },
          "execution_count": 27
        },
        {
          "output_type": "display_data",
          "data": {
            "image/png": "[encoded data removed]",
            "text/plain": [
              "<Figure size 288x288 with 1 Axes>"
            ]
          },
          "metadata": {
            "tags": [],
            "needs_background": "light"
          }
        }
      ]
    },
    {
      "cell_type": "markdown",
      "metadata": {
        "id": "VuLdzCAY7DeH"
      },
      "source": [
        ""
      ]
    },
    {
      "cell_type": "code",
      "metadata": {
        "colab": {
          "base_uri": "https://localhost:8080/"
        },
        "id": "s4OwuSnY7DxU",
        "outputId": "f24a6810-591d-4202-b098-111faa8e15af"
      },
      "source": [
        "train.Dependents.unique()"
      ],
      "execution_count": 28,
      "outputs": [
        {
          "output_type": "execute_result",
          "data": {
            "text/plain": [
              "array(['0', '1', '2', '3+', nan], dtype=object)"
            ]
          },
          "metadata": {
            "tags": []
          },
          "execution_count": 28
        }
      ]
    },
    {
      "cell_type": "markdown",
      "metadata": {
        "id": "CmJnBGNt7c-p"
      },
      "source": [
        ""
      ]
    },
    {
      "cell_type": "code",
      "metadata": {
        "id": "tDbTrcgY7dMD"
      },
      "source": [
        "#train=train.drop(['Income_bins','CoapplicantIncome_bins','Total_income','Total_income_bins','LoanAmount_bins'] ,axis=1 )\r\n",
        "train['Dependents'].replace('3+',3,inplace=True)\r\n",
        "test['Dependents'].replace('3+',3,inplace=True)\r\n",
        "train['Loan_Status'].replace('N',0,inplace=True)\r\n",
        "train['Loan_Status'].replace('Y',1,inplace=True)"
      ],
      "execution_count": 29,
      "outputs": []
    },
    {
      "cell_type": "code",
      "metadata": {
        "colab": {
          "base_uri": "https://localhost:8080/"
        },
        "id": "X_xw3aR81-Qh",
        "outputId": "691232d3-b276-43b7-9d1d-67df4ce9b55b"
      },
      "source": [
        "train['Loan_Status']"
      ],
      "execution_count": 30,
      "outputs": [
        {
          "output_type": "execute_result",
          "data": {
            "text/plain": [
              "0      1\n",
              "1      0\n",
              "2      1\n",
              "3      1\n",
              "4      1\n",
              "      ..\n",
              "609    1\n",
              "610    1\n",
              "611    1\n",
              "612    1\n",
              "613    0\n",
              "Name: Loan_Status, Length: 614, dtype: int64"
            ]
          },
          "metadata": {
            "tags": []
          },
          "execution_count": 30
        }
      ]
    },
    {
      "cell_type": "code",
      "metadata": {
        "colab": {
          "base_uri": "https://localhost:8080/",
          "height": 651
        },
        "id": "E1_cGnSR-WqK",
        "outputId": "6d51fad6-3103-4ed2-f99b-c399794cc5fd"
      },
      "source": [
        "matrix=train.corr() \r\n",
        "f,ax=plt.subplots(figsize=(10,10))\r\n",
        "sns.heatmap(matrix,vmax=.8,square=True,cmap='BuPu')"
      ],
      "execution_count": 31,
      "outputs": [
        {
          "output_type": "execute_result",
          "data": {
            "text/plain": [
              "<matplotlib.axes._subplots.AxesSubplot at 0x7f4fc6bb0048>"
            ]
          },
          "metadata": {
            "tags": []
          },
          "execution_count": 31
        },
        {
          "output_type": "display_data",
          "data": {
            "image/png": "[encoded data removed]",
            "text/plain": [
              "<Figure size 720x720 with 2 Axes>"
            ]
          },
          "metadata": {
            "tags": [],
            "needs_background": "light"
          }
        }
      ]
    },
    {
      "cell_type": "code",
      "metadata": {
        "id": "q0M6iZChZyR4"
      },
      "source": [
        "train=train.drop(['Income_bins','CoapplicantIncome_bins','Total_income','Total_income_bins','LoanAmount_bins'] ,axis=1 )"
      ],
      "execution_count": 32,
      "outputs": []
    },
    {
      "cell_type": "code",
      "metadata": {
        "colab": {
          "base_uri": "https://localhost:8080/"
        },
        "id": "iQVQPTDo7dX5",
        "outputId": "42001b1e-bc01-4254-d799-3348b20373ca"
      },
      "source": [
        "train.shape"
      ],
      "execution_count": 33,
      "outputs": [
        {
          "output_type": "execute_result",
          "data": {
            "text/plain": [
              "(614, 13)"
            ]
          },
          "metadata": {
            "tags": []
          },
          "execution_count": 33
        }
      ]
    },
    {
      "cell_type": "markdown",
      "metadata": {
        "id": "c1CX9CoSXguS"
      },
      "source": [
        "# Missing value implementation\r\n"
      ]
    },
    {
      "cell_type": "code",
      "metadata": {
        "colab": {
          "base_uri": "https://localhost:8080/"
        },
        "id": "o7Oxb-qWXom2",
        "outputId": "4f6c42c5-6fe0-4b30-8464-f9a7a2de48ec"
      },
      "source": [
        "train.isnull().sum()"
      ],
      "execution_count": 34,
      "outputs": [
        {
          "output_type": "execute_result",
          "data": {
            "text/plain": [
              "Loan_ID               0\n",
              "Gender               13\n",
              "Married               3\n",
              "Dependents           15\n",
              "Education             0\n",
              "Self_Employed        32\n",
              "ApplicantIncome       0\n",
              "CoapplicantIncome     0\n",
              "LoanAmount           22\n",
              "Loan_Amount_Term     14\n",
              "Credit_History       50\n",
              "Property_Area         0\n",
              "Loan_Status           0\n",
              "dtype: int64"
            ]
          },
          "metadata": {
            "tags": []
          },
          "execution_count": 34
        }
      ]
    },
    {
      "cell_type": "code",
      "metadata": {
        "id": "vWAyutjIamnT"
      },
      "source": [
        "train['Gender'].fillna(train['Gender'].mode()[0],inplace=True)\r\n",
        "train['Dependents'].fillna(train['Dependents'].mode()[0],inplace=True)\r\n",
        "train['Self_Employed'].fillna(train['Self_Employed'].mode()[0],inplace=True)\r\n",
        "train['Married'].fillna(train['Married'].mode()[0],inplace=True)\r\n",
        "train['Loan_Amount_Term'].fillna(train['Loan_Amount_Term'].mode()[0],inplace=True)\r\n",
        "train['Credit_History'].fillna(train['Credit_History'].mode()[0],inplace=True)"
      ],
      "execution_count": 35,
      "outputs": []
    },
    {
      "cell_type": "code",
      "metadata": {
        "id": "QXUOM54mdiMU"
      },
      "source": [
        "train['LoanAmount'].fillna(train['LoanAmount'].median(),inplace=True)"
      ],
      "execution_count": 36,
      "outputs": []
    },
    {
      "cell_type": "code",
      "metadata": {
        "colab": {
          "base_uri": "https://localhost:8080/"
        },
        "id": "0Tl4tapzc8TK",
        "outputId": "97cd6935-e07f-41fa-fd67-88ac89db0870"
      },
      "source": [
        "test.isnull().sum()"
      ],
      "execution_count": 37,
      "outputs": [
        {
          "output_type": "execute_result",
          "data": {
            "text/plain": [
              "Loan_ID               0\n",
              "Gender               11\n",
              "Married               0\n",
              "Dependents           10\n",
              "Education             0\n",
              "Self_Employed        23\n",
              "ApplicantIncome       0\n",
              "CoapplicantIncome     0\n",
              "LoanAmount            5\n",
              "Loan_Amount_Term      6\n",
              "Credit_History       29\n",
              "Property_Area         0\n",
              "dtype: int64"
            ]
          },
          "metadata": {
            "tags": []
          },
          "execution_count": 37
        }
      ]
    },
    {
      "cell_type": "code",
      "metadata": {
        "id": "g8h4RrATeRgr"
      },
      "source": [
        "test['Gender'].fillna(test['Gender'].mode()[0],inplace=True)\r\n",
        "test['Dependents'].fillna(test['Dependents'].mode()[0],inplace=True)\r\n",
        "test['Self_Employed'].fillna(test['Self_Employed'].mode()[0],inplace=True)\r\n",
        "test['Married'].fillna(test['Married'].mode()[0],inplace=True)\r\n",
        "test['Loan_Amount_Term'].fillna(test['Loan_Amount_Term'].mode()[0],inplace=True)\r\n",
        "test['Credit_History'].fillna(test['Credit_History'].mode()[0],inplace=True)\r\n",
        "test['LoanAmount'].fillna(test['LoanAmount'].median(),inplace=True)"
      ],
      "execution_count": 38,
      "outputs": []
    },
    {
      "cell_type": "code",
      "metadata": {
        "colab": {
          "base_uri": "https://localhost:8080/"
        },
        "id": "0b8yYUjjfSuI",
        "outputId": "fc493fb3-20fe-4d50-c9fc-439ebf5d6bd6"
      },
      "source": [
        "test.isnull().sum()"
      ],
      "execution_count": 39,
      "outputs": [
        {
          "output_type": "execute_result",
          "data": {
            "text/plain": [
              "Loan_ID              0\n",
              "Gender               0\n",
              "Married              0\n",
              "Dependents           0\n",
              "Education            0\n",
              "Self_Employed        0\n",
              "ApplicantIncome      0\n",
              "CoapplicantIncome    0\n",
              "LoanAmount           0\n",
              "Loan_Amount_Term     0\n",
              "Credit_History       0\n",
              "Property_Area        0\n",
              "dtype: int64"
            ]
          },
          "metadata": {
            "tags": []
          },
          "execution_count": 39
        }
      ]
    },
    {
      "cell_type": "markdown",
      "metadata": {
        "id": "ADel66E6fgoy"
      },
      "source": [
        "**outlier treatment** "
      ]
    },
    {
      "cell_type": "code",
      "metadata": {
        "colab": {
          "base_uri": "https://localhost:8080/",
          "height": 265
        },
        "id": "vf8InjIPffxm",
        "outputId": "6d3175d7-c580-4551-adc2-c981ef3046d3"
      },
      "source": [
        "train[\"LoanAmount_log\"]=np.log(train['LoanAmount'])\r\n",
        "train[\"LoanAmount_log\"].hist(bins=20)\r\n",
        "test[\"LoanAmount_log\"]=np.log(train['LoanAmount'])"
      ],
      "execution_count": 40,
      "outputs": [
        {
          "output_type": "display_data",
          "data": {
            "image/png": "[encoded data removed]",
            "text/plain": [
              "<Figure size 432x288 with 1 Axes>"
            ]
          },
          "metadata": {
            "tags": [],
            "needs_background": "light"
          }
        }
      ]
    },
    {
      "cell_type": "code",
      "metadata": {
        "colab": {
          "base_uri": "https://localhost:8080/",
          "height": 232
        },
        "id": "Az7Plnob0XYI",
        "outputId": "3fcf7152-6efe-4e0b-a7ee-67819b8461fe"
      },
      "source": [
        "train.head()"
      ],
      "execution_count": 41,
      "outputs": [
        {
          "output_type": "execute_result",
          "data": {
            "text/html": [
              "<div>\n",
              "<style scoped>\n",
              "    .dataframe tbody tr th:only-of-type {\n",
              "        vertical-align: middle;\n",
              "    }\n",
              "\n",
              "    .dataframe tbody tr th {\n",
              "        vertical-align: top;\n",
              "    }\n",
              "\n",
              "    .dataframe thead th {\n",
              "        text-align: right;\n",
              "    }\n",
              "</style>\n",
              "<table border=\"1\" class=\"dataframe\">\n",
              "  <thead>\n",
              "    <tr style=\"text-align: right;\">\n",
              "      <th></th>\n",
              "      <th>Loan_ID</th>\n",
              "      <th>Gender</th>\n",
              "      <th>Married</th>\n",
              "      <th>Dependents</th>\n",
              "      <th>Education</th>\n",
              "      <th>Self_Employed</th>\n",
              "      <th>ApplicantIncome</th>\n",
              "      <th>CoapplicantIncome</th>\n",
              "      <th>LoanAmount</th>\n",
              "      <th>Loan_Amount_Term</th>\n",
              "      <th>Credit_History</th>\n",
              "      <th>Property_Area</th>\n",
              "      <th>Loan_Status</th>\n",
              "      <th>LoanAmount_log</th>\n",
              "    </tr>\n",
              "  </thead>\n",
              "  <tbody>\n",
              "    <tr>\n",
              "      <th>0</th>\n",
              "      <td>LP001002</td>\n",
              "      <td>Male</td>\n",
              "      <td>No</td>\n",
              "      <td>0</td>\n",
              "      <td>Graduate</td>\n",
              "      <td>No</td>\n",
              "      <td>5849</td>\n",
              "      <td>0.0</td>\n",
              "      <td>128.0</td>\n",
              "      <td>360.0</td>\n",
              "      <td>1.0</td>\n",
              "      <td>Urban</td>\n",
              "      <td>1</td>\n",
              "      <td>4.852030</td>\n",
              "    </tr>\n",
              "    <tr>\n",
              "      <th>1</th>\n",
              "      <td>LP001003</td>\n",
              "      <td>Male</td>\n",
              "      <td>Yes</td>\n",
              "      <td>1</td>\n",
              "      <td>Graduate</td>\n",
              "      <td>No</td>\n",
              "      <td>4583</td>\n",
              "      <td>1508.0</td>\n",
              "      <td>128.0</td>\n",
              "      <td>360.0</td>\n",
              "      <td>1.0</td>\n",
              "      <td>Rural</td>\n",
              "      <td>0</td>\n",
              "      <td>4.852030</td>\n",
              "    </tr>\n",
              "    <tr>\n",
              "      <th>2</th>\n",
              "      <td>LP001005</td>\n",
              "      <td>Male</td>\n",
              "      <td>Yes</td>\n",
              "      <td>0</td>\n",
              "      <td>Graduate</td>\n",
              "      <td>Yes</td>\n",
              "      <td>3000</td>\n",
              "      <td>0.0</td>\n",
              "      <td>66.0</td>\n",
              "      <td>360.0</td>\n",
              "      <td>1.0</td>\n",
              "      <td>Urban</td>\n",
              "      <td>1</td>\n",
              "      <td>4.189655</td>\n",
              "    </tr>\n",
              "    <tr>\n",
              "      <th>3</th>\n",
              "      <td>LP001006</td>\n",
              "      <td>Male</td>\n",
              "      <td>Yes</td>\n",
              "      <td>0</td>\n",
              "      <td>Not Graduate</td>\n",
              "      <td>No</td>\n",
              "      <td>2583</td>\n",
              "      <td>2358.0</td>\n",
              "      <td>120.0</td>\n",
              "      <td>360.0</td>\n",
              "      <td>1.0</td>\n",
              "      <td>Urban</td>\n",
              "      <td>1</td>\n",
              "      <td>4.787492</td>\n",
              "    </tr>\n",
              "    <tr>\n",
              "      <th>4</th>\n",
              "      <td>LP001008</td>\n",
              "      <td>Male</td>\n",
              "      <td>No</td>\n",
              "      <td>0</td>\n",
              "      <td>Graduate</td>\n",
              "      <td>No</td>\n",
              "      <td>6000</td>\n",
              "      <td>0.0</td>\n",
              "      <td>141.0</td>\n",
              "      <td>360.0</td>\n",
              "      <td>1.0</td>\n",
              "      <td>Urban</td>\n",
              "      <td>1</td>\n",
              "      <td>4.948760</td>\n",
              "    </tr>\n",
              "  </tbody>\n",
              "</table>\n",
              "</div>"
            ],
            "text/plain": [
              "    Loan_ID Gender Married  ... Property_Area Loan_Status LoanAmount_log\n",
              "0  LP001002   Male      No  ...         Urban           1       4.852030\n",
              "1  LP001003   Male     Yes  ...         Rural           0       4.852030\n",
              "2  LP001005   Male     Yes  ...         Urban           1       4.189655\n",
              "3  LP001006   Male     Yes  ...         Urban           1       4.787492\n",
              "4  LP001008   Male      No  ...         Urban           1       4.948760\n",
              "\n",
              "[5 rows x 14 columns]"
            ]
          },
          "metadata": {
            "tags": []
          },
          "execution_count": 41
        }
      ]
    },
    {
      "cell_type": "code",
      "metadata": {
        "id": "F5W-BfPukhIE"
      },
      "source": [
        "train=train.drop('Loan_ID',axis=1)\r\n",
        "test=test.drop('Loan_ID',axis=1)\r\n"
      ],
      "execution_count": 42,
      "outputs": []
    },
    {
      "cell_type": "code",
      "metadata": {
        "id": "gyQALH_nk9Y2"
      },
      "source": [
        "X=train.drop('Loan_Status',axis=1)\r\n",
        "y=train.Loan_Status\r\n",
        "\r\n"
      ],
      "execution_count": 43,
      "outputs": []
    },
    {
      "cell_type": "code",
      "metadata": {
        "id": "1I4tZPYcptJY"
      },
      "source": [
        "X=pd.get_dummies(X)\r\n",
        "\r\n",
        "train=pd.get_dummies(train)\r\n",
        "test=pd.get_dummies(test)"
      ],
      "execution_count": 44,
      "outputs": []
    },
    {
      "cell_type": "markdown",
      "metadata": {
        "id": "F4mEuwalzGmf"
      },
      "source": [
        ""
      ]
    },
    {
      "cell_type": "code",
      "metadata": {
        "id": "u28H6YMTqyHJ"
      },
      "source": [
        "from sklearn.model_selection import train_test_split\r\n",
        "x_train,x_cv,y_train,y_cv=train_test_split(X,y ,test_size=0.30,random_state=101)"
      ],
      "execution_count": 45,
      "outputs": []
    },
    {
      "cell_type": "code",
      "metadata": {
        "id": "tuPoBIb-rWA9"
      },
      "source": [
        "from sklearn.linear_model import LogisticRegression\r\n",
        "from sklearn.metrics import accuracy_score\r\n"
      ],
      "execution_count": 46,
      "outputs": []
    },
    {
      "cell_type": "code",
      "metadata": {
        "id": "r_vjQPrYrr1E"
      },
      "source": [
        "logmodel = LogisticRegression()\r\n"
      ],
      "execution_count": 47,
      "outputs": []
    },
    {
      "cell_type": "code",
      "metadata": {
        "colab": {
          "base_uri": "https://localhost:8080/"
        },
        "id": "CG-T5ZJryMU5",
        "outputId": "31e9b3a9-7aed-4e9b-84f7-c5b2fc3be78b"
      },
      "source": [
        "logmodel.fit(x_train,y_train)"
      ],
      "execution_count": 48,
      "outputs": [
        {
          "output_type": "execute_result",
          "data": {
            "text/plain": [
              "LogisticRegression(C=1.0, class_weight=None, dual=False, fit_intercept=True,\n",
              "                   intercept_scaling=1, l1_ratio=None, max_iter=100,\n",
              "                   multi_class='auto', n_jobs=None, penalty='l2',\n",
              "                   random_state=None, solver='lbfgs', tol=0.0001, verbose=0,\n",
              "                   warm_start=False)"
            ]
          },
          "metadata": {
            "tags": []
          },
          "execution_count": 48
        }
      ]
    },
    {
      "cell_type": "code",
      "metadata": {
        "id": "LuNcnWwN0Nga"
      },
      "source": [
        "pred_cv=logmodel.predict(x_cv)"
      ],
      "execution_count": 49,
      "outputs": []
    },
    {
      "cell_type": "code",
      "metadata": {
        "colab": {
          "base_uri": "https://localhost:8080/"
        },
        "id": "CC7XzHcsytjh",
        "outputId": "e9d67f49-2321-48ef-a620-19c972b683af"
      },
      "source": [
        "accuracy_score(y_cv,pred_cv)"
      ],
      "execution_count": 50,
      "outputs": [
        {
          "output_type": "execute_result",
          "data": {
            "text/plain": [
              "0.772972972972973"
            ]
          },
          "metadata": {
            "tags": []
          },
          "execution_count": 50
        }
      ]
    },
    {
      "cell_type": "code",
      "metadata": {
        "id": "8zr-rc-T3KmT"
      },
      "source": [
        "pred_test=logmodel.predict(test)"
      ],
      "execution_count": 51,
      "outputs": []
    },
    {
      "cell_type": "code",
      "metadata": {
        "id": "UQpfG8h23XP0"
      },
      "source": [
        "submission=pd.read_csv(\"/content/sample_submission_49d68Cx.csv\")"
      ],
      "execution_count": 52,
      "outputs": []
    },
    {
      "cell_type": "code",
      "metadata": {
        "id": "d2xi51Tp3iiu"
      },
      "source": [
        "submission['Loan_Status']=pred_test\r\n",
        "submission['Loan_ID']=test_data['Loan_ID']"
      ],
      "execution_count": 53,
      "outputs": []
    },
    {
      "cell_type": "code",
      "metadata": {
        "id": "JrFmem-24HPM"
      },
      "source": [
        "submission['Loan_Status'].replace(0,'N',inplace=True)\r\n",
        "submission['Loan_Status'].replace(1,'Y',inplace=True)"
      ],
      "execution_count": 54,
      "outputs": []
    },
    {
      "cell_type": "code",
      "metadata": {
        "id": "D1X-RqFJ4dAr"
      },
      "source": [
        "pd.DataFrame(submission,columns=['Loan_ID','Loan_Status']).to_csv('Final_prediction.csv')"
      ],
      "execution_count": 55,
      "outputs": []
    },
    {
      "cell_type": "code",
      "metadata": {
        "id": "DvU4XyO_1e9A"
      },
      "source": [
        "from sklearn.model_selection import StratifiedKFold"
      ],
      "execution_count": 58,
      "outputs": []
    },
    {
      "cell_type": "code",
      "metadata": {
        "colab": {
          "base_uri": "https://localhost:8080/"
        },
        "id": "vwPx4e2d1uhN",
        "outputId": "c792f757-5b56-4097-cdee-ff2793296ee7"
      },
      "source": [
        "i=1\r\n",
        "kf=StratifiedKFold(n_splits=5,random_state=1,shuffle=True)\r\n",
        "for train_index,test_index in kf.split(X,y):\r\n",
        "  print('\\n{} of kfold {}'.format(i,kf.n_splits))\r\n",
        "  xtr,xvl=X.loc[train_index],X.loc[test_index]\r\n",
        "  ytr,yvl=y[train_index],y[test_index]\r\n",
        "  model=LogisticRegression(random_state=1)\r\n",
        "  model.fit(xtr,ytr)\r\n",
        "  pred_test=model.predict(xvl)\r\n",
        "  score =accuracy_score(yvl,pred_test)\r\n",
        "  print('accuracy_score',score)\r\n",
        "  i+=1\r\n",
        "  pred_test=model.predict(test)\r\n",
        "  pred=model.predict_proba(xvl)[:,1]"
      ],
      "execution_count": 80,
      "outputs": [
        {
          "output_type": "stream",
          "text": [
            "\n",
            "1 of kfold 5\n",
            "accuracy_score 0.8048780487804879\n",
            "\n",
            "2 of kfold 5\n",
            "accuracy_score 0.8373983739837398\n",
            "\n",
            "3 of kfold 5\n",
            "accuracy_score 0.7804878048780488\n",
            "\n",
            "4 of kfold 5\n",
            "accuracy_score 0.7886178861788617\n",
            "\n",
            "5 of kfold 5\n",
            "accuracy_score 0.7950819672131147\n"
          ],
          "name": "stdout"
        }
      ]
    },
    {
      "cell_type": "code",
      "metadata": {
        "colab": {
          "base_uri": "https://localhost:8080/",
          "height": 497
        },
        "id": "bri2Jcc35PLn",
        "outputId": "d4e19701-d409-4da6-ccd9-79a894030cd0"
      },
      "source": [
        "from sklearn import metrics \r\n",
        "fpr,tpr,_=metrics.roc_curve(yvl, pred)\r\n",
        "auc=metrics.roc_auc_score(yvl,pred)\r\n",
        "plt.figure(figsize=(12,8))\r\n",
        "plt.plot(fpr,tpr,label=\"validation,auc=\"+str(auc))\r\n",
        "plt.xlabel('False positive rate')\r\n",
        "plt.ylabel('true positive rate')\r\n",
        "plt.legend(loc=4)\r\n",
        "plt.show()"
      ],
      "execution_count": 83,
      "outputs": [
        {
          "output_type": "display_data",
          "data": {
            "image/png": "[encoded data removed]",
            "text/plain": [
              "<Figure size 864x576 with 1 Axes>"
            ]
          },
          "metadata": {
            "tags": [],
            "needs_background": "light"
          }
        }
      ]
    },
    {
      "cell_type": "code",
      "metadata": {
        "id": "fcFH-6Vh5Qzg"
      },
      "source": [
        "submission['Loan_Status']=pred_test\r\n",
        "submission['Loan_ID']=test_data['Loan_ID']\r\n"
      ],
      "execution_count": 85,
      "outputs": []
    },
    {
      "cell_type": "code",
      "metadata": {
        "id": "-H2UIf04-Gpb"
      },
      "source": [
        "submission['Loan_Status'].replace(0,'N',inplace=True)\r\n",
        "submission['Loan_Status'].replace(1,'Y',inplace=True)"
      ],
      "execution_count": 86,
      "outputs": []
    },
    {
      "cell_type": "code",
      "metadata": {
        "id": "JDqTeaz85ZqS"
      },
      "source": [
        "pd.DataFrame(submission,columns=['Loan_ID','Loan_Status']).to_csv('Final_prediction.csv')"
      ],
      "execution_count": 88,
      "outputs": []
    }
  ]
}